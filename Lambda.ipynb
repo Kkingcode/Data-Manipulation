{
 "cells": [
  {
   "cell_type": "code",
   "execution_count": 21,
   "id": "fa8b927c-e798-40ca-9aee-3532b59f9daf",
   "metadata": {},
   "outputs": [],
   "source": [
    "def testFunction(a,b):\n",
    "    a1 = a*1\n",
    "    b1 = b*1\n",
    "    \n",
    "    c = a1 + b1 + a * b\n",
    "    return c"
   ]
  },
  {
   "cell_type": "code",
   "execution_count": 22,
   "id": "9f36c21c-14d8-41ea-b9fb-b554df6ed5cd",
   "metadata": {},
   "outputs": [],
   "source": [
    "d = testFunction(1,1)"
   ]
  },
  {
   "cell_type": "code",
   "execution_count": 23,
   "id": "dcbd66a5-cf36-436c-9eff-7377e034987f",
   "metadata": {},
   "outputs": [
    {
     "name": "stdout",
     "output_type": "stream",
     "text": [
      "3\n"
     ]
    }
   ],
   "source": [
    "print (d)"
   ]
  },
  {
   "cell_type": "code",
   "execution_count": 1,
   "id": "4e1979cc-1cbe-4b00-a344-844addc45e3d",
   "metadata": {},
   "outputs": [],
   "source": [
    "def add(a,b):\n",
    "    result = a+b\n",
    "    return result"
   ]
  },
  {
   "cell_type": "code",
   "execution_count": 2,
   "id": "ca281720-6c8b-4a03-933e-bc44d96dc63b",
   "metadata": {},
   "outputs": [
    {
     "data": {
      "text/plain": [
       "7"
      ]
     },
     "execution_count": 2,
     "metadata": {},
     "output_type": "execute_result"
    }
   ],
   "source": [
    "add(3,4)"
   ]
  },
  {
   "cell_type": "markdown",
   "id": "34377b6d-5d01-4152-a66d-a9bb5a0c6d69",
   "metadata": {},
   "source": [
    "# lambda function"
   ]
  },
  {
   "cell_type": "code",
   "execution_count": 3,
   "id": "d039550a-c79e-4298-84ba-2529f5dfb934",
   "metadata": {},
   "outputs": [
    {
     "data": {
      "text/plain": [
       "7"
      ]
     },
     "execution_count": 3,
     "metadata": {},
     "output_type": "execute_result"
    }
   ],
   "source": [
    "\n",
    "add = lambda a,b : a+b\n",
    "add(3,4)"
   ]
  },
  {
   "cell_type": "code",
   "execution_count": 4,
   "id": "9cf3109a-a83c-4a06-bb65-87d59f2584ec",
   "metadata": {},
   "outputs": [
    {
     "data": {
      "text/plain": [
       "450"
      ]
     },
     "execution_count": 4,
     "metadata": {},
     "output_type": "execute_result"
    }
   ],
   "source": [
    "(lambda a , b : a * b )(15, 30)"
   ]
  },
  {
   "cell_type": "code",
   "execution_count": 5,
   "id": "b8def23d-30bf-4d0d-acec-283789612c6a",
   "metadata": {},
   "outputs": [
    {
     "name": "stdout",
     "output_type": "stream",
     "text": [
      "200\n"
     ]
    }
   ],
   "source": [
    "product = lambda x,y,z : x*y*z\n",
    "print(product(z=5, x=10, y=4))"
   ]
  },
  {
   "cell_type": "code",
   "execution_count": 16,
   "id": "8faa0d75-4728-4c42-9719-6933d16918bc",
   "metadata": {},
   "outputs": [
    {
     "name": "stdout",
     "output_type": "stream",
     "text": [
      "59\n"
     ]
    }
   ],
   "source": [
    "add = lambda x,y=15, z=24 : x + y + z\n",
    "print(add(20))"
   ]
  },
  {
   "cell_type": "code",
   "execution_count": 17,
   "id": "d9b0c443-26f9-41db-a140-fee101dbe06c",
   "metadata": {},
   "outputs": [
    {
     "name": "stdout",
     "output_type": "stream",
     "text": [
      "112\n"
     ]
    }
   ],
   "source": [
    "oya = lambda * gbefun : sum(gbefun)\n",
    "print(oya(20, 2, 40, 50))"
   ]
  },
  {
   "cell_type": "code",
   "execution_count": 24,
   "id": "8dfecfc7-d97f-4b76-9413-c261f518b9fa",
   "metadata": {},
   "outputs": [
    {
     "data": {
      "text/plain": [
       "110"
      ]
     },
     "execution_count": 24,
     "metadata": {},
     "output_type": "execute_result"
    }
   ],
   "source": [
    "sodiki = lambda x, ogbon: x + ogbon(x)\n",
    "sodiki(10, lambda x : x * x)"
   ]
  },
  {
   "cell_type": "code",
   "execution_count": 36,
   "id": "34ccb4a0",
   "metadata": {},
   "outputs": [
    {
     "name": "stdout",
     "output_type": "stream",
     "text": [
      "['ALICE', 'Bob', 'Charlie', 'David']\n"
     ]
    }
   ],
   "source": [
    "names = [\"ALICE\", \"Charlie\", \"Bob\", \"David\"]\n",
    "sorted_names = sorted(names, key=lambda names: names.lower())\n",
    "print(sorted_names)"
   ]
  },
  {
   "cell_type": "code",
   "execution_count": 37,
   "id": "fb53ddd0-e96c-47a6-941f-e84165181157",
   "metadata": {},
   "outputs": [
    {
     "name": "stdout",
     "output_type": "stream",
     "text": [
      "[2, 4, 6, 8, 10]\n"
     ]
    }
   ],
   "source": [
    "numbers = [1, 2, 3, 4, 5, 6, 7, 8, 9, 10]\n",
    "even_numbers = list(filter(lambda x: x % 2 == 0, numbers))\n",
    "print(even_numbers)\n"
   ]
  },
  {
   "cell_type": "code",
   "execution_count": 38,
   "id": "2c390ba8-d48f-4d29-837d-c40e7c49a23a",
   "metadata": {},
   "outputs": [
    {
     "name": "stdout",
     "output_type": "stream",
     "text": [
      "[2, 4, 6, 8, 10]\n"
     ]
    }
   ],
   "source": [
    "numbers = [1, 2, 3, 4, 5, 6, 7, 8, 9, 10]\n",
    "even_numbers = list(filter(lambda x: x % 2 == 0, numbers))\n",
    "print(even_numbers)\n"
   ]
  },
  {
   "cell_type": "code",
   "execution_count": 39,
   "id": "3ecb91c9-bd6e-4062-93a6-55d1d6ef4ab8",
   "metadata": {},
   "outputs": [
    {
     "name": "stdout",
     "output_type": "stream",
     "text": [
      "[{'name': 'Bob', 'age': 11}, {'name': 'Alice', 'age': 12}, {'name': 'Charlie', 'age': 13}]\n"
     ]
    }
   ],
   "source": [
    "students = [    {\"name\": \"Alice\", \"age\": 12},    {\"name\": \"Bob\", \"age\": 11},    {\"name\": \"Charlie\", \"age\": 13}]\n",
    "\n",
    "sorted_students = sorted(students, key=lambda student: student[\"age\"])\n",
    "print(sorted_students)\n"
   ]
  },
  {
   "cell_type": "code",
   "execution_count": 40,
   "id": "c53f342c-ec41-4142-8824-ede639596742",
   "metadata": {},
   "outputs": [
    {
     "name": "stdout",
     "output_type": "stream",
     "text": [
      "8\n"
     ]
    }
   ],
   "source": [
    "def make_adder(x):\n",
    "    return lambda y: x + y\n",
    "\n",
    "add_five = make_adder(5)\n",
    "result = add_five(3)\n",
    "print(result)\n"
   ]
  },
  {
   "cell_type": "markdown",
   "id": "b81241d8-3fb7-4c8a-ad89-2926ffff097e",
   "metadata": {},
   "source": [
    "##### In the example above, we have a function called make_adder that takes one argument (x). \n",
    "##### When called, it returns a new function that takes one argument (y) and returns the sum of x and y.\n",
    "\n",
    "##### So, when we call make_adder(5), it returns a new function that looks like this:\n",
    "\n",
    "##### python\n",
    "##### Copy code\n",
    "##### lambda y: 5 + y\n",
    "##### We're then assigning this new function to a variable called add_five, \n",
    "##### which means we can call it later with different arguments.\n",
    "\n",
    "##### When we call add_five(3), we're passing 3 as the argument to the new function we created with make_adder(5). \n",
    "##### This means x is still 5 (because that's the value we passed to make_adder), and y is now 3. \n",
    "##### So, the new function returns 5 + 3, which is 8.\n",
    "\n",
    "##### Finally, we're printing the value of result, which should be 8.\n",
    "\n",
    "##### I hope this helps! Let me know if you have any more questions."
   ]
  },
  {
   "cell_type": "code",
   "execution_count": 45,
   "id": "97c685fb-8b03-4014-a589-763410a3efdd",
   "metadata": {},
   "outputs": [
    {
     "name": "stdout",
     "output_type": "stream",
     "text": [
      "[1, 4, 9, 16, 25]\n"
     ]
    }
   ],
   "source": [
    "numbers = [1, 2, 3, 4, 5]\n",
    "\n",
    "squared_numbers = list(map(lambda x: x**2, numbers))\n",
    "print(squared_numbers)\n"
   ]
  },
  {
   "cell_type": "code",
   "execution_count": 46,
   "id": "5c02c345-3fea-4a71-936c-3d794ad8995b",
   "metadata": {},
   "outputs": [],
   "source": [
    "# In this example, we're using lambda to create a function that squares its input (x). \n",
    "# We're then using the map function to apply this function to each element in the numbers list. \n",
    "# Finally, we're converting the result to a new list called squared_numbers and printing it.\n",
    "\n",
    "# The output should be [1, 4, 9, 16, 25], \n",
    "# which is the result of squaring each number in the original list."
   ]
  },
  {
   "cell_type": "code",
   "execution_count": 47,
   "id": "100f4455-89cc-4132-b551-4d718c2a27df",
   "metadata": {},
   "outputs": [
    {
     "name": "stdout",
     "output_type": "stream",
     "text": [
      "['date', 'apple', 'banana', 'cherry', 'elderberry']\n"
     ]
    }
   ],
   "source": [
    "words = ['apple', 'banana', 'cherry', 'date', 'elderberry']\n",
    "\n",
    "sorted_words = sorted(words, key=lambda x: len(x))\n",
    "print(sorted_words)\n"
   ]
  },
  {
   "cell_type": "code",
   "execution_count": 48,
   "id": "4de37bbb-379a-4ec8-bea0-85f10d93e30a",
   "metadata": {},
   "outputs": [],
   "source": [
    "# In this example, we're using lambda to create a function that returns the length of its input (x). We're then using the sorted function to sort the words list based on the length of each string. Finally, we're assigning the sorted list to a new variable called sorted_words and printing it.\n",
    "\n",
    "# The output should be ['date', 'apple', 'banana', 'cherry', 'elderberry'], which is the result of sorting the original list by the length of each string.\n",
    "\n",
    "# I hope this helps! Let me know if you have any more questions."
   ]
  },
  {
   "cell_type": "code",
   "execution_count": 49,
   "id": "841d83b1-8be5-469f-9080-f16579c95f48",
   "metadata": {},
   "outputs": [
    {
     "name": "stdout",
     "output_type": "stream",
     "text": [
      "['cat', 'dog', 'lion']\n"
     ]
    }
   ],
   "source": [
    "animals = ['cat', 'dog', 'elephant', 'giraffe', 'lion', 'tiger']\n",
    "\n",
    "short_animals = list(filter(lambda x: len(x) < 5, animals))\n",
    "print(short_animals)\n"
   ]
  },
  {
   "cell_type": "code",
   "execution_count": null,
   "id": "0000b166-61ef-4ed4-b602-564cacf0d249",
   "metadata": {},
   "outputs": [],
   "source": []
  },
  {
   "cell_type": "code",
   "execution_count": null,
   "id": "70c00e24-a10f-41d7-84b3-4b47509eabb3",
   "metadata": {},
   "outputs": [],
   "source": [
    "# Example 1: Using lambda to create a function that doubles its input\n",
    "double = lambda x: x * 2\n",
    "print(double(5)) # Output: 10\n",
    "\n",
    "# Example 2: Using lambda to sort a list of dictionaries based on a specific key\n",
    "students = [\n",
    "  {'name': 'Alice', 'grade': 85},\n",
    "  {'name': 'Bob', 'grade': 90},\n",
    "  {'name': 'Charlie', 'grade': 80},\n",
    "  {'name': 'Dave', 'grade': 95},\n",
    "  {'name': 'Eve', 'grade': 75}\n",
    "]\n",
    "sorted_students = sorted(students, key=lambda x: x['grade'], reverse=True)\n",
    "print(sorted_students)\n",
    "\n",
    "# Example 3: Using lambda to create a function that adds two numbers\n",
    "add = lambda x, y: x + y\n",
    "print(add(2, 3)) # Output: 5\n",
    "\n",
    "# Example 4: Using lambda to create a function that returns the length of a string\n",
    "length = lambda s: len(s)\n",
    "print(length('hello')) # Output: 5\n",
    "\n",
    "# Example 5: Using lambda to filter a list of numbers based on whether they are odd or even\n",
    "numbers = [1, 2, 3, 4, 5, 6, 7, 8, 9]\n",
    "even_numbers = list(filter(lambda x: x % 2 == 0, numbers))\n",
    "odd_numbers = list(filter(lambda x: x % 2 == 1, numbers))\n",
    "print(even_numbers) # Output: [2, 4, 6, 8]\n",
    "print(odd_numbers) # Output: [1, 3, 5, 7, 9]\n"
   ]
  }
 ],
 "metadata": {
  "kernelspec": {
   "display_name": "Python 3 (ipykernel)",
   "language": "python",
   "name": "python3"
  },
  "language_info": {
   "codemirror_mode": {
    "name": "ipython",
    "version": 3
   },
   "file_extension": ".py",
   "mimetype": "text/x-python",
   "name": "python",
   "nbconvert_exporter": "python",
   "pygments_lexer": "ipython3",
   "version": "3.9.12"
  },
  "widgets": {
   "application/vnd.jupyter.widget-state+json": {
    "state": {},
    "version_major": 2,
    "version_minor": 0
   }
  }
 },
 "nbformat": 4,
 "nbformat_minor": 5
}
